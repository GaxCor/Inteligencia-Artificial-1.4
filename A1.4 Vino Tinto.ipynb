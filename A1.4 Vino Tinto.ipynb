{
 "cells": [
  {
   "cell_type": "markdown",
   "metadata": {},
   "source": [
    "# Regresión Lineal Múltiple: Calidad del Vino Tinto\n",
    "\n",
    "Este proyecto analiza la relación entre diversas variables del vino tinto y su calidad, utilizando un modelo de **regresión lineal múltiple**.\n",
    "\n",
    "Los datos provienen del **UCI Machine Learning Repository** y contienen 1,599 observaciones con 11 características y una variable de salida: la calidad del vino.\n",
    "\n",
    "---\n",
    "\n",
    "### 1. Importación de datos y análisis inicial\n",
    "\n",
    "En este paso, cargamos el conjunto de datos `A1.4 Vino Tinto.csv`, revisamos su estructura y mostramos algunas filas iniciales para comprender mejor su contenido."
   ]
  },
  {
   "cell_type": "code",
   "execution_count": 1,
   "metadata": {},
   "outputs": [
    {
     "name": "stdout",
     "output_type": "stream",
     "text": [
      "Dimensiones de los datos: (1599, 12)\n"
     ]
    },
    {
     "data": {
      "text/html": [
       "<div>\n",
       "<style scoped>\n",
       "    .dataframe tbody tr th:only-of-type {\n",
       "        vertical-align: middle;\n",
       "    }\n",
       "\n",
       "    .dataframe tbody tr th {\n",
       "        vertical-align: top;\n",
       "    }\n",
       "\n",
       "    .dataframe thead th {\n",
       "        text-align: right;\n",
       "    }\n",
       "</style>\n",
       "<table border=\"1\" class=\"dataframe\">\n",
       "  <thead>\n",
       "    <tr style=\"text-align: right;\">\n",
       "      <th></th>\n",
       "      <th>acidezFija</th>\n",
       "      <th>acidezVolatil</th>\n",
       "      <th>acidoCitrico</th>\n",
       "      <th>azucarResidual</th>\n",
       "      <th>cloruros</th>\n",
       "      <th>dioxidoAzufreLibre</th>\n",
       "      <th>dioxidoAzufreTotal</th>\n",
       "      <th>densidad</th>\n",
       "      <th>pH</th>\n",
       "      <th>sulfatos</th>\n",
       "      <th>alcohol</th>\n",
       "      <th>calidad</th>\n",
       "    </tr>\n",
       "  </thead>\n",
       "  <tbody>\n",
       "    <tr>\n",
       "      <th>0</th>\n",
       "      <td>7.4</td>\n",
       "      <td>0.70</td>\n",
       "      <td>0.00</td>\n",
       "      <td>1.9</td>\n",
       "      <td>0.076</td>\n",
       "      <td>11.0</td>\n",
       "      <td>34.0</td>\n",
       "      <td>0.9978</td>\n",
       "      <td>3.51</td>\n",
       "      <td>0.56</td>\n",
       "      <td>9.4</td>\n",
       "      <td>5</td>\n",
       "    </tr>\n",
       "    <tr>\n",
       "      <th>1</th>\n",
       "      <td>7.8</td>\n",
       "      <td>0.88</td>\n",
       "      <td>0.00</td>\n",
       "      <td>2.6</td>\n",
       "      <td>0.098</td>\n",
       "      <td>25.0</td>\n",
       "      <td>67.0</td>\n",
       "      <td>0.9968</td>\n",
       "      <td>3.20</td>\n",
       "      <td>0.68</td>\n",
       "      <td>9.8</td>\n",
       "      <td>5</td>\n",
       "    </tr>\n",
       "    <tr>\n",
       "      <th>2</th>\n",
       "      <td>7.8</td>\n",
       "      <td>0.76</td>\n",
       "      <td>0.04</td>\n",
       "      <td>2.3</td>\n",
       "      <td>0.092</td>\n",
       "      <td>15.0</td>\n",
       "      <td>54.0</td>\n",
       "      <td>0.9970</td>\n",
       "      <td>3.26</td>\n",
       "      <td>0.65</td>\n",
       "      <td>9.8</td>\n",
       "      <td>5</td>\n",
       "    </tr>\n",
       "    <tr>\n",
       "      <th>3</th>\n",
       "      <td>11.2</td>\n",
       "      <td>0.28</td>\n",
       "      <td>0.56</td>\n",
       "      <td>1.9</td>\n",
       "      <td>0.075</td>\n",
       "      <td>17.0</td>\n",
       "      <td>60.0</td>\n",
       "      <td>0.9980</td>\n",
       "      <td>3.16</td>\n",
       "      <td>0.58</td>\n",
       "      <td>9.8</td>\n",
       "      <td>6</td>\n",
       "    </tr>\n",
       "    <tr>\n",
       "      <th>4</th>\n",
       "      <td>7.4</td>\n",
       "      <td>0.70</td>\n",
       "      <td>0.00</td>\n",
       "      <td>1.9</td>\n",
       "      <td>0.076</td>\n",
       "      <td>11.0</td>\n",
       "      <td>34.0</td>\n",
       "      <td>0.9978</td>\n",
       "      <td>3.51</td>\n",
       "      <td>0.56</td>\n",
       "      <td>9.4</td>\n",
       "      <td>5</td>\n",
       "    </tr>\n",
       "  </tbody>\n",
       "</table>\n",
       "</div>"
      ],
      "text/plain": [
       "   acidezFija  acidezVolatil  acidoCitrico  azucarResidual  cloruros  \\\n",
       "0         7.4           0.70          0.00             1.9     0.076   \n",
       "1         7.8           0.88          0.00             2.6     0.098   \n",
       "2         7.8           0.76          0.04             2.3     0.092   \n",
       "3        11.2           0.28          0.56             1.9     0.075   \n",
       "4         7.4           0.70          0.00             1.9     0.076   \n",
       "\n",
       "   dioxidoAzufreLibre  dioxidoAzufreTotal  densidad    pH  sulfatos  alcohol  \\\n",
       "0                11.0                34.0    0.9978  3.51      0.56      9.4   \n",
       "1                25.0                67.0    0.9968  3.20      0.68      9.8   \n",
       "2                15.0                54.0    0.9970  3.26      0.65      9.8   \n",
       "3                17.0                60.0    0.9980  3.16      0.58      9.8   \n",
       "4                11.0                34.0    0.9978  3.51      0.56      9.4   \n",
       "\n",
       "   calidad  \n",
       "0        5  \n",
       "1        5  \n",
       "2        5  \n",
       "3        6  \n",
       "4        5  "
      ]
     },
     "metadata": {},
     "output_type": "display_data"
    }
   ],
   "source": [
    "import pandas as pd\n",
    "from sklearn.model_selection import train_test_split\n",
    "from sklearn.linear_model import LinearRegression\n",
    "from sklearn.metrics import r2_score\n",
    "from mlxtend.feature_selection import SequentialFeatureSelector as SFS\n",
    "\n",
    "data = pd.read_csv(\"A1.4 Vino Tinto.csv\")\n",
    "print(f\"Dimensiones de los datos: {data.shape}\")\n",
    "display(data.head(5))"
   ]
  },
  {
   "cell_type": "markdown",
   "metadata": {},
   "source": [
    "---\n",
    "\n",
    "### 2. División de datos en entrenamiento y prueba\n",
    "\n",
    "Para evaluar el modelo de manera confiable, dividimos los datos en un conjunto de entrenamiento (80%) y otro de prueba (20%). Esta separación es aleatoria para evitar sesgos en el modelo."
   ]
  },
  {
   "cell_type": "code",
   "execution_count": 2,
   "metadata": {},
   "outputs": [
    {
     "name": "stdout",
     "output_type": "stream",
     "text": [
      "Dimensiones del entrenamiento: (1279, 11)\n",
      "Dimensiones de prueba: (320, 11)\n"
     ]
    }
   ],
   "source": [
    "X = data.drop(columns=['calidad'])\n",
    "y = data['calidad']\n",
    "X_train, X_test, y_train, y_test = train_test_split(X, y, test_size=0.2, random_state=105)\n",
    "print(f\"Dimensiones del entrenamiento: {X_train.shape}\")\n",
    "print(f\"Dimensiones de prueba: {X_test.shape}\")\n"
   ]
  },
  {
   "cell_type": "markdown",
   "metadata": {},
   "source": [
    "---\n",
    "\n",
    "### 3. Selección de características hacia adelante\n",
    "\n",
    "Se emplea el método de **selección hacia adelante** para identificar las características más relevantes que explican la calidad del vino, utilizando la métrica de R² como criterio de selección."
   ]
  },
  {
   "cell_type": "code",
   "execution_count": 3,
   "metadata": {},
   "outputs": [
    {
     "name": "stdout",
     "output_type": "stream",
     "text": [
      "Características (hacia adelante): ['acidezVolatil', 'cloruros', 'dioxidoAzufreLibre', 'dioxidoAzufreTotal', 'pH', 'sulfatos', 'alcohol']\n"
     ]
    }
   ],
   "source": [
    "model = LinearRegression()\n",
    "sfs_delante = SFS(model, k_features=(2, 8), forward=True, floating=False, scoring='r2', cv=10)\n",
    "sfs_delante.fit(X_train, y_train)\n",
    "caract_delante = list(sfs_delante.k_feature_names_)\n",
    "print(\"Características (hacia adelante):\", caract_delante)"
   ]
  },
  {
   "cell_type": "markdown",
   "metadata": {},
   "source": [
    "---\n",
    "\n",
    "### 4. Entrenamiento del modelo con selección hacia adelante\n",
    "\n",
    "Una vez seleccionadas las mejores características, entrenamos un modelo de regresión lineal utilizando únicamente estas variables."
   ]
  },
  {
   "cell_type": "code",
   "execution_count": 4,
   "metadata": {},
   "outputs": [
    {
     "name": "stdout",
     "output_type": "stream",
     "text": [
      "R² del modelo con selección hacia adelante: 0.3807\n"
     ]
    }
   ],
   "source": [
    "def train_and_evaluate_model(X_train, X_test, y_train, y_test, features):\n",
    "    model = LinearRegression()\n",
    "    model.fit(X_train[features], y_train)\n",
    "    y_pred = model.predict(X_test[features])\n",
    "    r2 = r2_score(y_test, y_pred)\n",
    "    print(f\"R² del modelo con selección hacia adelante: {r2:.4f}\")\n",
    "    return model, r2, y_pred\n",
    "\n",
    "model_delante, r2_delante, y_pred_delante = train_and_evaluate_model(X_train, X_test, y_train, y_test, caract_delante)\n",
    "\n"
   ]
  },
  {
   "cell_type": "markdown",
   "metadata": {},
   "source": [
    "---\n",
    "\n",
    "### 5. Selección de características hacia atrás\n",
    "\n",
    "Ahora realizamos un proceso de **selección hacia atrás** para refinar aún más la selección de variables, eliminando aquellas que contribuyen menos a la predicción."
   ]
  },
  {
   "cell_type": "code",
   "execution_count": 5,
   "metadata": {},
   "outputs": [
    {
     "name": "stdout",
     "output_type": "stream",
     "text": [
      "Características (hacia atrás): ['acidezVolatil', 'cloruros', 'dioxidoAzufreTotal', 'sulfatos', 'alcohol']\n"
     ]
    }
   ],
   "source": [
    "sfs_atras = SFS(model, k_features=(2, 5), forward=False, floating=False, scoring='r2', cv=10)\n",
    "sfs_atras.fit(X_train[caract_delante], y_train)\n",
    "caract_atras = list(sfs_atras.k_feature_names_)\n",
    "print(\"Características (hacia atrás):\", caract_atras)"
   ]
  },
  {
   "cell_type": "markdown",
   "metadata": {},
   "source": [
    "---\n",
    "\n",
    "### 6. Entrenamiento del modelo con selección hacia atrás y visualización\n",
    "\n",
    "Entrenamos nuevamente el modelo con las variables finales y comparamos su desempeño con el modelo de selección hacia adelante."
   ]
  },
  {
   "cell_type": "code",
   "execution_count": 6,
   "metadata": {},
   "outputs": [
    {
     "name": "stdout",
     "output_type": "stream",
     "text": [
      "R² del modelo con selección hacia adelante: 0.3757\n"
     ]
    }
   ],
   "source": [
    "# Paso 6: Entrenar modelo con selección hacia atrás\n",
    "model_atras, r2_atras, y_pred_backward = train_and_evaluate_model(X_train, X_test, y_train, y_test, caract_atras)\n",
    "\n"
   ]
  },
  {
   "cell_type": "markdown",
   "metadata": {},
   "source": [
    "**Comparación de los modelos:**"
   ]
  },
  {
   "cell_type": "code",
   "execution_count": 7,
   "metadata": {},
   "outputs": [
    {
     "name": "stdout",
     "output_type": "stream",
     "text": [
      "\n",
      "Comparación de R² entre los modelos:\n",
      "Selección hacia adelante: R² = 0.3807\n",
      "Selección hacia atrás: R² = 0.3757\n",
      "El modelo con selección hacia adelante tiene mejor desempeño.\n"
     ]
    }
   ],
   "source": [
    "\n",
    "# Comparación de los modelos\n",
    "print(\"\\nComparación de R² entre los modelos:\")\n",
    "print(f\"Selección hacia adelante: R² = {r2_delante:.4f}\")\n",
    "print(f\"Selección hacia atrás: R² = {r2_atras:.4f}\")\n",
    "if r2_delante > r2_atras:\n",
    "    print(\"El modelo con selección hacia adelante tiene mejor desempeño.\")\n",
    "else:\n",
    "    print(\"El modelo con selección hacia atrás tiene mejor desempeño.\")\n"
   ]
  },
  {
   "cell_type": "markdown",
   "metadata": {},
   "source": [
    "---\n",
    "\n",
    "### Conclusión\n",
    "\n",
    "Durante este análisis, se probaron varias veces el modelo con diferentes divisiones de datos (cambiando el random state), lo que permitió observar cómo varía la selección de características y el rendimiento del modelo. Se notó que la selección de características son importantes en la precisión de la regresión lineal múltiple, ya que tanto la selección hacia adelante como hacia atrás generaron resultados distintos en cada ejecución.\n",
    "\n",
    "Un punto interesante es que la cantidad de variables elegidas afecta la estabilidad del modelo. En algunos casos, incluir más variables mejoró la predicción, mientras que en otros, reducirlas ayudó a evitar sobreajuste. Para mejorar la consistencia, sería útil ajustar mejor el número de características consideradas en cada método y comparar más a fondo los resultados.\n",
    "\n",
    "\n",
    "**Referencias:**\n",
    "- [UCI Machine Learning Repository: Wine Quality Dataset](https://archive.ics.uci.edu/dataset/186/wine+quality)\n",
    "- [Decision Support Systems - Original Research Paper](https://doi.org/10.1016/j.dss.2009.05.016)"
   ]
  }
 ],
 "metadata": {
  "kernelspec": {
   "display_name": "Python 3",
   "language": "python",
   "name": "python3"
  },
  "language_info": {
   "codemirror_mode": {
    "name": "ipython",
    "version": 3
   },
   "file_extension": ".py",
   "mimetype": "text/x-python",
   "name": "python",
   "nbconvert_exporter": "python",
   "pygments_lexer": "ipython3",
   "version": "3.12.6"
  }
 },
 "nbformat": 4,
 "nbformat_minor": 2
}
